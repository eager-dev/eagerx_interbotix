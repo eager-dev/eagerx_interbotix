{
 "cells": [
  {
   "cell_type": "code",
   "execution_count": 1,
   "id": "29a1c8a2-e4d1-4639-99f4-f5462beeb0dc",
   "metadata": {
    "tags": []
   },
   "outputs": [],
   "source": [
    "# eagerx imports\n",
    "import eagerx\n",
    "import eagerx_interbotix.demo as demo"
   ]
  },
  {
   "cell_type": "code",
   "execution_count": 2,
   "id": "a8854e90-d96e-4d4b-bea1-843fc8026a8f",
   "metadata": {
    "tags": []
   },
   "outputs": [],
   "source": [
    "# Set parameters\n",
    "rate = 10\n",
    "\n",
    "# Create graph\n",
    "graph = eagerx.Graph.create()"
   ]
  },
  {
   "cell_type": "code",
   "execution_count": 3,
   "id": "2e5594af-ebe2-4341-b21d-68a91bb6ddec",
   "metadata": {
    "tags": []
   },
   "outputs": [
    {
     "name": "stderr",
     "output_type": "stream",
     "text": [
      "pybullet build time: May 20 2022 19:44:17\n"
     ]
    }
   ],
   "source": [
    "# Create box\n",
    "box = demo.Box.make(\n",
    "    \"box\",\n",
    "    rate=rate,\n",
    "    sensors=[\"position\", \"yaw\"],\n",
    ")\n",
    "graph.add(box)\n",
    "\n",
    "graph.connect(source=box.sensors.position, observation=\"pos\")\n",
    "graph.connect(source=box.sensors.yaw, observation=\"yaw\")"
   ]
  },
  {
   "cell_type": "code",
   "execution_count": 4,
   "id": "d16d9969-7e05-4954-989c-2b400f4030a0",
   "metadata": {
    "tags": []
   },
   "outputs": [],
   "source": [
    "# Create goal\n",
    "goal = demo.BoxGoal.make(\n",
    "    \"goal\",\n",
    "    rate=rate,\n",
    "    sensors=[\"position\", \"yaw\"],\n",
    ")\n",
    "graph.add(goal)\n",
    "\n",
    "graph.connect(source=goal.sensors.position, observation=\"pos_desired\")\n",
    "graph.connect(source=goal.sensors.yaw, observation=\"yaw_desired\")"
   ]
  },
  {
   "cell_type": "code",
   "execution_count": 5,
   "id": "08db7413-ef9c-4c7b-9b19-fb16053ba2e8",
   "metadata": {
    "tags": []
   },
   "outputs": [],
   "source": [
    "# Create arm\n",
    "arm = demo.PandaArm.make(\n",
    "    name=\"panda\",\n",
    "    rate=rate,\n",
    "    sensors=[\"position\", \"velocity\", \"force_torque\", \"ee_pos\", \"ee_orn\"],\n",
    "    actuators=[\"vel_control\"],\n",
    ")\n",
    "graph.add(arm)\n",
    "\n",
    "# Connecting observations\n",
    "graph.connect(source=arm.sensors.position, observation=\"joints\")\n",
    "graph.connect(source=arm.sensors.velocity, observation=\"velocity\")\n",
    "graph.connect(source=arm.sensors.force_torque, observation=\"force_torque\")\n",
    "graph.connect(source=arm.sensors.ee_pos, observation=\"ee_position\")"
   ]
  },
  {
   "cell_type": "code",
   "execution_count": 6,
   "id": "93b46646-484b-419d-ac83-53071b48b325",
   "metadata": {
    "tags": []
   },
   "outputs": [],
   "source": [
    "# Create IK node\n",
    "ik = demo.PandaIK.make(\n",
    "    name=\"inverse_kinematics\",\n",
    "    rate=rate,\n",
    ")\n",
    "graph.add(ik)\n",
    "\n",
    "# Create safety node\n",
    "safe = demo.VelocityControl.make(\n",
    "    name=\"safety\",\n",
    "    rate=rate,\n",
    "    joint_names=arm.config.joint_names,\n",
    "    joint_upper=arm.config.joint_upper,\n",
    "    joint_lower=arm.config.joint_lower,\n",
    "    vel_limit=[0.2 * vl for vl in arm.config.vel_limit],\n",
    ")\n",
    "graph.add(safe)\n",
    "\n",
    "# Connecting goal\n",
    "graph.connect(source=ik.outputs.dtarget, target=safe.inputs.goal)\n",
    "\n",
    "# Connecting safety filter to arm\n",
    "graph.connect(source=arm.sensors.position, target=safe.inputs.position)\n",
    "graph.connect(source=arm.sensors.velocity, target=safe.inputs.velocity)\n",
    "graph.connect(source=safe.outputs.filtered, target=arm.actuators.vel_control)\n",
    "\n",
    "# Connect IK\n",
    "graph.connect(source=arm.sensors.position, target=ik.inputs.current)\n",
    "graph.connect(source=arm.sensors.ee_pos, target=ik.inputs.xyz)\n",
    "graph.connect(source=arm.sensors.ee_orn, target=ik.inputs.orn)\n",
    "\n",
    "# Connecting actions\n",
    "graph.connect(action=\"dxyz\", target=ik.inputs.dxyz)\n",
    "graph.connect(action=\"dyaw\", target=ik.inputs.dyaw)"
   ]
  },
  {
   "cell_type": "code",
   "execution_count": 8,
   "id": "520cf340-8c3b-418d-9cbf-e569a04a6423",
   "metadata": {
    "tags": []
   },
   "outputs": [
    {
     "ename": "error",
     "evalue": "Only one local in-process GUI/GUI_SERVER connection allowed. Use DIRECT connection mode or start a separate GUI physics server (ExampleBrowser, App_SharedMemoryPhysics_GUI, App_SharedMemoryPhysics_VR) and connect over SHARED_MEMORY, UDP or TCP instead.",
     "output_type": "error",
     "traceback": [
      "\u001b[0;31m---------------------------------------------------------------------------\u001b[0m",
      "\u001b[0;31merror\u001b[0m                                     Traceback (most recent call last)",
      "Cell \u001b[0;32mIn[8], line 7\u001b[0m\n\u001b[1;32m      4\u001b[0m \u001b[38;5;28;01mfrom\u001b[39;00m \u001b[38;5;21;01meagerx_pybullet\u001b[39;00m\u001b[38;5;21;01m.\u001b[39;00m\u001b[38;5;21;01mengine\u001b[39;00m \u001b[38;5;28;01mimport\u001b[39;00m PybulletEngine\n\u001b[1;32m      5\u001b[0m engine \u001b[38;5;241m=\u001b[39m PybulletEngine\u001b[38;5;241m.\u001b[39mmake(rate\u001b[38;5;241m=\u001b[39mrate)\n\u001b[0;32m----> 7\u001b[0m env \u001b[38;5;241m=\u001b[39m \u001b[43mdemo\u001b[49m\u001b[38;5;241;43m.\u001b[39;49m\u001b[43mBoxPushEnv\u001b[49m\u001b[38;5;241;43m.\u001b[39;49m\u001b[43mmake\u001b[49m\u001b[43m(\u001b[49m\n\u001b[1;32m      8\u001b[0m \u001b[43m    \u001b[49m\u001b[43mname\u001b[49m\u001b[38;5;241;43m=\u001b[39;49m\u001b[38;5;124;43m\"\u001b[39;49m\u001b[38;5;124;43mPandaEnv\u001b[39;49m\u001b[38;5;124;43m\"\u001b[39;49m\u001b[43m,\u001b[49m\n\u001b[1;32m      9\u001b[0m \u001b[43m    \u001b[49m\u001b[43mrate\u001b[49m\u001b[38;5;241;43m=\u001b[39;49m\u001b[43mrate\u001b[49m\u001b[43m,\u001b[49m\n\u001b[1;32m     10\u001b[0m \u001b[43m    \u001b[49m\u001b[43mgraph\u001b[49m\u001b[38;5;241;43m=\u001b[39;49m\u001b[43mgraph\u001b[49m\u001b[43m,\u001b[49m\n\u001b[1;32m     11\u001b[0m \u001b[43m    \u001b[49m\u001b[43mengine\u001b[49m\u001b[38;5;241;43m=\u001b[39;49m\u001b[43mengine\u001b[49m\u001b[43m,\u001b[49m\n\u001b[1;32m     12\u001b[0m \u001b[43m    \u001b[49m\u001b[43mbackend\u001b[49m\u001b[38;5;241;43m=\u001b[39;49m\u001b[43mbackend\u001b[49m\u001b[43m,\u001b[49m\n\u001b[1;32m     13\u001b[0m \u001b[43m)\u001b[49m\n\u001b[1;32m     14\u001b[0m obs \u001b[38;5;241m=\u001b[39m env\u001b[38;5;241m.\u001b[39mreset()\n",
      "File \u001b[0;32m~/eagerx_dev/eagerx_interbotix/eagerx_interbotix/demo/__init__.py:169\u001b[0m, in \u001b[0;36mBoxPushEnv.make\u001b[0;34m(name, rate, graph, engine, backend)\u001b[0m\n\u001b[1;32m    166\u001b[0m \u001b[38;5;28;01mfrom\u001b[39;00m \u001b[38;5;21;01meagerx_interbotix\u001b[39;00m\u001b[38;5;21;01m.\u001b[39;00m\u001b[38;5;21;01mgoal_env\u001b[39;00m \u001b[38;5;28;01mimport\u001b[39;00m GoalArmEnv\n\u001b[1;32m    168\u001b[0m T_max \u001b[38;5;241m=\u001b[39m \u001b[38;5;241m15.0\u001b[39m  \u001b[38;5;66;03m# [sec]\u001b[39;00m\n\u001b[0;32m--> 169\u001b[0m env \u001b[38;5;241m=\u001b[39m \u001b[43mArmEnv\u001b[49m\u001b[43m(\u001b[49m\n\u001b[1;32m    170\u001b[0m \u001b[43m    \u001b[49m\u001b[43mname\u001b[49m\u001b[38;5;241;43m=\u001b[39;49m\u001b[43mname\u001b[49m\u001b[43m,\u001b[49m\n\u001b[1;32m    171\u001b[0m \u001b[43m    \u001b[49m\u001b[43mrate\u001b[49m\u001b[38;5;241;43m=\u001b[39;49m\u001b[43mrate\u001b[49m\u001b[43m,\u001b[49m\n\u001b[1;32m    172\u001b[0m \u001b[43m    \u001b[49m\u001b[43mgraph\u001b[49m\u001b[38;5;241;43m=\u001b[39;49m\u001b[43mgraph\u001b[49m\u001b[43m,\u001b[49m\n\u001b[1;32m    173\u001b[0m \u001b[43m    \u001b[49m\u001b[43mengine\u001b[49m\u001b[38;5;241;43m=\u001b[39;49m\u001b[43mengine\u001b[49m\u001b[43m,\u001b[49m\n\u001b[1;32m    174\u001b[0m \u001b[43m    \u001b[49m\u001b[43mbackend\u001b[49m\u001b[38;5;241;43m=\u001b[39;49m\u001b[43mbackend\u001b[49m\u001b[43m,\u001b[49m\n\u001b[1;32m    175\u001b[0m \u001b[43m    \u001b[49m\u001b[43mmax_steps\u001b[49m\u001b[38;5;241;43m=\u001b[39;49m\u001b[38;5;28;43mint\u001b[39;49m\u001b[43m(\u001b[49m\u001b[43mT_max\u001b[49m\u001b[43m \u001b[49m\u001b[38;5;241;43m*\u001b[39;49m\u001b[43m \u001b[49m\u001b[43mrate\u001b[49m\u001b[43m)\u001b[49m\u001b[43m,\u001b[49m\n\u001b[1;32m    176\u001b[0m \u001b[43m    \u001b[49m\u001b[43mexclude_z\u001b[49m\u001b[38;5;241;43m=\u001b[39;49m\u001b[38;5;28;43;01mFalse\u001b[39;49;00m\u001b[43m,\u001b[49m\n\u001b[1;32m    177\u001b[0m \u001b[43m\u001b[49m\u001b[43m)\u001b[49m\n\u001b[1;32m    178\u001b[0m goal_env \u001b[38;5;241m=\u001b[39m GoalArmEnv(env)\n\u001b[1;32m    179\u001b[0m env \u001b[38;5;241m=\u001b[39m w\u001b[38;5;241m.\u001b[39mrescale_action\u001b[38;5;241m.\u001b[39mRescaleAction(goal_env, min_action\u001b[38;5;241m=\u001b[39m\u001b[38;5;241m-\u001b[39m\u001b[38;5;241m1.0\u001b[39m, max_action\u001b[38;5;241m=\u001b[39m\u001b[38;5;241m1.0\u001b[39m)\n",
      "File \u001b[0;32m~/eagerx_dev/eagerx_interbotix/eagerx_interbotix/env.py:11\u001b[0m, in \u001b[0;36mArmEnv.__init__\u001b[0;34m(self, name, rate, graph, engine, backend, max_steps, add_bias, exclude_z, seed, delay_min, delay_max, ori_rwd)\u001b[0m\n\u001b[1;32m     10\u001b[0m \u001b[38;5;28;01mdef\u001b[39;00m \u001b[38;5;21m__init__\u001b[39m(\u001b[38;5;28mself\u001b[39m, name, rate, graph, engine, backend, max_steps: \u001b[38;5;28mint\u001b[39m, add_bias: \u001b[38;5;28mbool\u001b[39m \u001b[38;5;241m=\u001b[39m \u001b[38;5;28;01mFalse\u001b[39;00m, exclude_z: \u001b[38;5;28mbool\u001b[39m \u001b[38;5;241m=\u001b[39m \u001b[38;5;28;01mTrue\u001b[39;00m, seed: \u001b[38;5;28mint\u001b[39m \u001b[38;5;241m=\u001b[39m \u001b[38;5;241m0\u001b[39m, delay_min: \u001b[38;5;28mfloat\u001b[39m \u001b[38;5;241m=\u001b[39m \u001b[38;5;28;01mNone\u001b[39;00m, delay_max: \u001b[38;5;28mfloat\u001b[39m \u001b[38;5;241m=\u001b[39m \u001b[38;5;28;01mNone\u001b[39;00m, ori_rwd: \u001b[38;5;28mbool\u001b[39m \u001b[38;5;241m=\u001b[39m \u001b[38;5;28;01mTrue\u001b[39;00m):\n\u001b[0;32m---> 11\u001b[0m     \u001b[38;5;28;43msuper\u001b[39;49m\u001b[43m(\u001b[49m\u001b[43m)\u001b[49m\u001b[38;5;241;43m.\u001b[39;49m\u001b[38;5;21;43m__init__\u001b[39;49m\u001b[43m(\u001b[49m\u001b[43mname\u001b[49m\u001b[43m,\u001b[49m\u001b[43m \u001b[49m\u001b[43mrate\u001b[49m\u001b[43m,\u001b[49m\u001b[43m \u001b[49m\u001b[43mgraph\u001b[49m\u001b[43m,\u001b[49m\u001b[43m \u001b[49m\u001b[43mengine\u001b[49m\u001b[43m,\u001b[49m\u001b[43m \u001b[49m\u001b[43mbackend\u001b[49m\u001b[38;5;241;43m=\u001b[39;49m\u001b[43mbackend\u001b[49m\u001b[43m,\u001b[49m\u001b[43m \u001b[49m\u001b[43mforce_start\u001b[49m\u001b[38;5;241;43m=\u001b[39;49m\u001b[38;5;28;43;01mFalse\u001b[39;49;00m\u001b[43m)\u001b[49m\n\u001b[1;32m     12\u001b[0m     \u001b[38;5;28mself\u001b[39m\u001b[38;5;241m.\u001b[39msteps \u001b[38;5;241m=\u001b[39m \u001b[38;5;241m0\u001b[39m\n\u001b[1;32m     13\u001b[0m     \u001b[38;5;28mself\u001b[39m\u001b[38;5;241m.\u001b[39mmax_steps \u001b[38;5;241m=\u001b[39m max_steps\n",
      "File \u001b[0;32m~/.cache/pypoetry/virtualenvs/eagerx-interbotix-jybkouFr-py3.8/lib/python3.8/site-packages/eagerx/core/env.py:89\u001b[0m, in \u001b[0;36mBaseEnv.__init__\u001b[0;34m(self, name, rate, graph, engine, backend, force_start)\u001b[0m\n\u001b[1;32m     86\u001b[0m \u001b[38;5;28mself\u001b[39m\u001b[38;5;241m.\u001b[39m_is_initialized \u001b[38;5;241m=\u001b[39m \u001b[38;5;28mself\u001b[39m\u001b[38;5;241m.\u001b[39msupervisor_node\u001b[38;5;241m.\u001b[39mis_initialized\n\u001b[1;32m     88\u001b[0m \u001b[38;5;66;03m# Initialize engine\u001b[39;00m\n\u001b[0;32m---> 89\u001b[0m \u001b[38;5;28;43mself\u001b[39;49m\u001b[38;5;241;43m.\u001b[39;49m\u001b[43m_init_engine\u001b[49m\u001b[43m(\u001b[49m\u001b[43mengine\u001b[49m\u001b[43m,\u001b[49m\u001b[43m \u001b[49m\u001b[43mnodes\u001b[49m\u001b[43m)\u001b[49m\n\u001b[1;32m     91\u001b[0m \u001b[38;5;66;03m# Create environment node\u001b[39;00m\n\u001b[1;32m     92\u001b[0m \u001b[38;5;28mself\u001b[39m\u001b[38;5;241m.\u001b[39menv_node, \u001b[38;5;28mself\u001b[39m\u001b[38;5;241m.\u001b[39menv \u001b[38;5;241m=\u001b[39m \u001b[38;5;28mself\u001b[39m\u001b[38;5;241m.\u001b[39m_init_environment(environment, \u001b[38;5;28mself\u001b[39m\u001b[38;5;241m.\u001b[39msupervisor_node, \u001b[38;5;28mself\u001b[39m\u001b[38;5;241m.\u001b[39mmb)\n",
      "File \u001b[0;32m~/.cache/pypoetry/virtualenvs/eagerx-interbotix-jybkouFr-py3.8/lib/python3.8/site-packages/eagerx/core/env.py:206\u001b[0m, in \u001b[0;36mBaseEnv._init_engine\u001b[0;34m(self, engine, nodes)\u001b[0m\n\u001b[1;32m    203\u001b[0m         spec \u001b[38;5;241m=\u001b[39m RxEngineState(cname, address, view\u001b[38;5;241m.\u001b[39mstate\u001b[38;5;241m.\u001b[39mto_dict(), processor, view\u001b[38;5;241m.\u001b[39mspace\u001b[38;5;241m.\u001b[39mto_dict())\n\u001b[1;32m    204\u001b[0m         obj\u001b[38;5;241m.\u001b[39mengine_states[cname] \u001b[38;5;241m=\u001b[39m spec\u001b[38;5;241m.\u001b[39mbuild(ns\u001b[38;5;241m=\u001b[39m\u001b[38;5;28mself\u001b[39m\u001b[38;5;241m.\u001b[39mns)\n\u001b[0;32m--> 206\u001b[0m \u001b[43minitialize_nodes\u001b[49m\u001b[43m(\u001b[49m\n\u001b[1;32m    207\u001b[0m \u001b[43m    \u001b[49m\u001b[43mengine\u001b[49m\u001b[43m,\u001b[49m\n\u001b[1;32m    208\u001b[0m \u001b[43m    \u001b[49m\u001b[43mprocess\u001b[49m\u001b[38;5;241;43m.\u001b[39;49m\u001b[43mENVIRONMENT\u001b[49m\u001b[43m,\u001b[49m\n\u001b[1;32m    209\u001b[0m \u001b[43m    \u001b[49m\u001b[38;5;28;43mself\u001b[39;49m\u001b[38;5;241;43m.\u001b[39;49m\u001b[43mns\u001b[49m\u001b[43m,\u001b[49m\n\u001b[1;32m    210\u001b[0m \u001b[43m    \u001b[49m\u001b[38;5;28;43mself\u001b[39;49m\u001b[38;5;241;43m.\u001b[39;49m\u001b[43mmb\u001b[49m\u001b[43m,\u001b[49m\n\u001b[1;32m    211\u001b[0m \u001b[43m    \u001b[49m\u001b[38;5;28;43mself\u001b[39;49m\u001b[38;5;241;43m.\u001b[39;49m\u001b[43msupervisor_node\u001b[49m\u001b[38;5;241;43m.\u001b[39;49m\u001b[43mis_initialized\u001b[49m\u001b[43m,\u001b[49m\n\u001b[1;32m    212\u001b[0m \u001b[43m    \u001b[49m\u001b[38;5;28;43mself\u001b[39;49m\u001b[38;5;241;43m.\u001b[39;49m\u001b[43msupervisor_node\u001b[49m\u001b[38;5;241;43m.\u001b[39;49m\u001b[43msp_nodes\u001b[49m\u001b[43m,\u001b[49m\n\u001b[1;32m    213\u001b[0m \u001b[43m    \u001b[49m\u001b[38;5;28;43mself\u001b[39;49m\u001b[38;5;241;43m.\u001b[39;49m\u001b[43msupervisor_node\u001b[49m\u001b[38;5;241;43m.\u001b[39;49m\u001b[43mlaunch_nodes\u001b[49m\u001b[43m,\u001b[49m\n\u001b[1;32m    214\u001b[0m \u001b[43m    \u001b[49m\u001b[43mrxnode_cls\u001b[49m\u001b[38;5;241;43m=\u001b[39;49m\u001b[43mRxEngine\u001b[49m\u001b[43m,\u001b[49m\n\u001b[1;32m    215\u001b[0m \u001b[43m\u001b[49m\u001b[43m)\u001b[49m\n\u001b[1;32m    216\u001b[0m wait_for_node_initialization(\u001b[38;5;28mself\u001b[39m\u001b[38;5;241m.\u001b[39m_is_initialized, \u001b[38;5;28mself\u001b[39m\u001b[38;5;241m.\u001b[39mbackend)\n",
      "File \u001b[0;32m~/.cache/pypoetry/virtualenvs/eagerx-interbotix-jybkouFr-py3.8/lib/python3.8/site-packages/eagerx/utils/node_utils.py:113\u001b[0m, in \u001b[0;36minitialize_nodes\u001b[0;34m(nodes, process_id, ns, message_broker, is_initialized, sp_nodes, launch_nodes, rxnode_cls, node_args)\u001b[0m\n\u001b[1;32m    111\u001b[0m     \u001b[38;5;28;01mif\u001b[39;00m node_args \u001b[38;5;129;01mis\u001b[39;00m \u001b[38;5;28;01mNone\u001b[39;00m:\n\u001b[1;32m    112\u001b[0m         node_args \u001b[38;5;241m=\u001b[39m \u001b[38;5;28mdict\u001b[39m()\n\u001b[0;32m--> 113\u001b[0m     sp_nodes[node_address] \u001b[38;5;241m=\u001b[39m \u001b[43mrxnode_cls\u001b[49m\u001b[43m(\u001b[49m\u001b[43mname\u001b[49m\u001b[38;5;241;43m=\u001b[39;49m\u001b[43mnode_address\u001b[49m\u001b[43m,\u001b[49m\u001b[43m \u001b[49m\u001b[43mmessage_broker\u001b[49m\u001b[38;5;241;43m=\u001b[39;49m\u001b[43mmessage_broker\u001b[49m\u001b[43m,\u001b[49m\u001b[43m \u001b[49m\u001b[38;5;241;43m*\u001b[39;49m\u001b[38;5;241;43m*\u001b[39;49m\u001b[43mnode_args\u001b[49m\u001b[43m)\u001b[49m\n\u001b[1;32m    114\u001b[0m     sp_nodes[node_address]\u001b[38;5;241m.\u001b[39mnode_initialized()\n\u001b[1;32m    115\u001b[0m \u001b[38;5;28;01melif\u001b[39;00m (\n\u001b[1;32m    116\u001b[0m     params[\u001b[38;5;124m\"\u001b[39m\u001b[38;5;124mconfig\u001b[39m\u001b[38;5;124m\"\u001b[39m][\u001b[38;5;124m\"\u001b[39m\u001b[38;5;124mprocess\u001b[39m\u001b[38;5;124m\"\u001b[39m] \u001b[38;5;241m==\u001b[39m process\u001b[38;5;241m.\u001b[39mNEW_PROCESS \u001b[38;5;129;01mand\u001b[39;00m process_id \u001b[38;5;241m==\u001b[39m process\u001b[38;5;241m.\u001b[39mENVIRONMENT\n\u001b[1;32m    117\u001b[0m ):  \u001b[38;5;66;03m# Only environment can launch new processes (as it is the main_thread)\u001b[39;00m\n",
      "File \u001b[0;32m~/.cache/pypoetry/virtualenvs/eagerx-interbotix-jybkouFr-py3.8/lib/python3.8/site-packages/eagerx/core/executable_engine.py:47\u001b[0m, in \u001b[0;36mRxEngine.__init__\u001b[0;34m(self, name, message_broker)\u001b[0m\n\u001b[1;32m     35\u001b[0m \u001b[38;5;28mself\u001b[39m\u001b[38;5;241m.\u001b[39mhas_shutdown \u001b[38;5;241m=\u001b[39m \u001b[38;5;28;01mFalse\u001b[39;00m\n\u001b[1;32m     37\u001b[0m \u001b[38;5;66;03m# Prepare input & output topics\u001b[39;00m\n\u001b[1;32m     38\u001b[0m (\n\u001b[1;32m     39\u001b[0m     rate,\n\u001b[1;32m     40\u001b[0m     inputs,\n\u001b[1;32m     41\u001b[0m     outputs,\n\u001b[1;32m     42\u001b[0m     states,\n\u001b[1;32m     43\u001b[0m     engine_states,\n\u001b[1;32m     44\u001b[0m     node_names,\n\u001b[1;32m     45\u001b[0m     target_addresses,\n\u001b[1;32m     46\u001b[0m     \u001b[38;5;28mself\u001b[39m\u001b[38;5;241m.\u001b[39mengine,\n\u001b[0;32m---> 47\u001b[0m ) \u001b[38;5;241m=\u001b[39m \u001b[38;5;28;43mself\u001b[39;49m\u001b[38;5;241;43m.\u001b[39;49m\u001b[43m_prepare_io_topics\u001b[49m\u001b[43m(\u001b[49m\u001b[38;5;28;43mself\u001b[39;49m\u001b[38;5;241;43m.\u001b[39;49m\u001b[43mname\u001b[49m\u001b[43m)\u001b[49m\n\u001b[1;32m     49\u001b[0m \u001b[38;5;66;03m# Initialize reactive pipeline\u001b[39;00m\n\u001b[1;32m     50\u001b[0m rx_objects \u001b[38;5;241m=\u001b[39m eagerx\u001b[38;5;241m.\u001b[39mcore\u001b[38;5;241m.\u001b[39mrx_pipelines\u001b[38;5;241m.\u001b[39minit_engine(\n\u001b[1;32m     51\u001b[0m     \u001b[38;5;28mself\u001b[39m\u001b[38;5;241m.\u001b[39mns,\n\u001b[1;32m     52\u001b[0m     rate,\n\u001b[0;32m   (...)\u001b[0m\n\u001b[1;32m     60\u001b[0m     \u001b[38;5;28mself\u001b[39m\u001b[38;5;241m.\u001b[39mmb,\n\u001b[1;32m     61\u001b[0m )\n",
      "File \u001b[0;32m~/.cache/pypoetry/virtualenvs/eagerx-interbotix-jybkouFr-py3.8/lib/python3.8/site-packages/eagerx/core/executable_engine.py:121\u001b[0m, in \u001b[0;36mRxEngine._prepare_io_topics\u001b[0;34m(self, name)\u001b[0m\n\u001b[1;32m    119\u001b[0m \u001b[38;5;66;03m# Get node\u001b[39;00m\n\u001b[1;32m    120\u001b[0m node_cls \u001b[38;5;241m=\u001b[39m load(params[\u001b[38;5;124m\"\u001b[39m\u001b[38;5;124mnode_type\u001b[39m\u001b[38;5;124m\"\u001b[39m])\n\u001b[0;32m--> 121\u001b[0m node \u001b[38;5;241m=\u001b[39m \u001b[43mnode_cls\u001b[49m\u001b[43m(\u001b[49m\n\u001b[1;32m    122\u001b[0m \u001b[43m    \u001b[49m\u001b[43mns\u001b[49m\u001b[38;5;241;43m=\u001b[39;49m\u001b[38;5;28;43mself\u001b[39;49m\u001b[38;5;241;43m.\u001b[39;49m\u001b[43mns\u001b[49m\u001b[43m,\u001b[49m\n\u001b[1;32m    123\u001b[0m \u001b[43m    \u001b[49m\u001b[43mmessage_broker\u001b[49m\u001b[38;5;241;43m=\u001b[39;49m\u001b[38;5;28;43mself\u001b[39;49m\u001b[38;5;241;43m.\u001b[39;49m\u001b[43mmb\u001b[49m\u001b[43m,\u001b[49m\n\u001b[1;32m    124\u001b[0m \u001b[43m    \u001b[49m\u001b[43msync\u001b[49m\u001b[38;5;241;43m=\u001b[39;49m\u001b[43mparams\u001b[49m\u001b[43m[\u001b[49m\u001b[38;5;124;43m\"\u001b[39;49m\u001b[38;5;124;43mconfig\u001b[39;49m\u001b[38;5;124;43m\"\u001b[39;49m\u001b[43m]\u001b[49m\u001b[43m[\u001b[49m\u001b[38;5;124;43m\"\u001b[39;49m\u001b[38;5;124;43msync\u001b[39;49m\u001b[38;5;124;43m\"\u001b[39;49m\u001b[43m]\u001b[49m\u001b[43m,\u001b[49m\n\u001b[1;32m    125\u001b[0m \u001b[43m    \u001b[49m\u001b[43mreal_time_factor\u001b[49m\u001b[38;5;241;43m=\u001b[39;49m\u001b[43mparams\u001b[49m\u001b[43m[\u001b[49m\u001b[38;5;124;43m\"\u001b[39;49m\u001b[38;5;124;43mconfig\u001b[39;49m\u001b[38;5;124;43m\"\u001b[39;49m\u001b[43m]\u001b[49m\u001b[43m[\u001b[49m\u001b[38;5;124;43m\"\u001b[39;49m\u001b[38;5;124;43mreal_time_factor\u001b[39;49m\u001b[38;5;124;43m\"\u001b[39;49m\u001b[43m]\u001b[49m\u001b[43m,\u001b[49m\n\u001b[1;32m    126\u001b[0m \u001b[43m    \u001b[49m\u001b[43msimulate_delays\u001b[49m\u001b[38;5;241;43m=\u001b[39;49m\u001b[43mparams\u001b[49m\u001b[43m[\u001b[49m\u001b[38;5;124;43m\"\u001b[39;49m\u001b[38;5;124;43mconfig\u001b[39;49m\u001b[38;5;124;43m\"\u001b[39;49m\u001b[43m]\u001b[49m\u001b[43m[\u001b[49m\u001b[38;5;124;43m\"\u001b[39;49m\u001b[38;5;124;43msimulate_delays\u001b[39;49m\u001b[38;5;124;43m\"\u001b[39;49m\u001b[43m]\u001b[49m\u001b[43m,\u001b[49m\n\u001b[1;32m    127\u001b[0m \u001b[43m    \u001b[49m\u001b[43mparams\u001b[49m\u001b[38;5;241;43m=\u001b[39;49m\u001b[43mparams\u001b[49m\u001b[43m,\u001b[49m\n\u001b[1;32m    128\u001b[0m \u001b[43m    \u001b[49m\u001b[43mtarget_addresses\u001b[49m\u001b[38;5;241;43m=\u001b[39;49m\u001b[43mtarget_addresses\u001b[49m\u001b[43m,\u001b[49m\n\u001b[1;32m    129\u001b[0m \u001b[43m    \u001b[49m\u001b[43mnode_names\u001b[49m\u001b[38;5;241;43m=\u001b[39;49m\u001b[43mnode_names\u001b[49m\u001b[43m,\u001b[49m\n\u001b[1;32m    130\u001b[0m \u001b[43m\u001b[49m\u001b[43m)\u001b[49m\n\u001b[1;32m    132\u001b[0m \u001b[38;5;66;03m# Convert to tuple for reactive pipeline.\u001b[39;00m\n\u001b[1;32m    133\u001b[0m inputs \u001b[38;5;241m=\u001b[39m \u001b[38;5;28mtuple\u001b[39m([value \u001b[38;5;28;01mfor\u001b[39;00m key, value \u001b[38;5;129;01min\u001b[39;00m params[\u001b[38;5;124m\"\u001b[39m\u001b[38;5;124minputs\u001b[39m\u001b[38;5;124m\"\u001b[39m]\u001b[38;5;241m.\u001b[39mitems()])\n",
      "File \u001b[0;32m~/.cache/pypoetry/virtualenvs/eagerx-interbotix-jybkouFr-py3.8/lib/python3.8/site-packages/eagerx/core/entities.py:1102\u001b[0m, in \u001b[0;36mEngine.__init__\u001b[0;34m(self, sync, real_time_factor, params, target_addresses, node_names, *args, **kwargs)\u001b[0m\n\u001b[1;32m   1099\u001b[0m \u001b[38;5;66;03m# Call initialize with spec\u001b[39;00m\n\u001b[1;32m   1100\u001b[0m \u001b[38;5;28;01mfrom\u001b[39;00m \u001b[38;5;21;01meagerx\u001b[39;00m\u001b[38;5;21;01m.\u001b[39;00m\u001b[38;5;21;01mcore\u001b[39;00m\u001b[38;5;21;01m.\u001b[39;00m\u001b[38;5;21;01mspecs\u001b[39;00m \u001b[38;5;28;01mimport\u001b[39;00m EngineSpec\n\u001b[0;32m-> 1102\u001b[0m \u001b[38;5;28;43mself\u001b[39;49m\u001b[38;5;241;43m.\u001b[39;49m\u001b[43minitialize\u001b[49m\u001b[43m(\u001b[49m\u001b[43mEngineSpec\u001b[49m\u001b[43m(\u001b[49m\u001b[43mparams\u001b[49m\u001b[43m)\u001b[49m\u001b[43m)\u001b[49m\n\u001b[1;32m   1104\u001b[0m \u001b[38;5;66;03m#: Parameters for all objects.\u001b[39;00m\n\u001b[1;32m   1105\u001b[0m \u001b[38;5;28mself\u001b[39m\u001b[38;5;241m.\u001b[39mobjects: \u001b[38;5;28mdict\u001b[39m \u001b[38;5;241m=\u001b[39m params[\u001b[38;5;124m\"\u001b[39m\u001b[38;5;124mobjects\u001b[39m\u001b[38;5;124m\"\u001b[39m]\n",
      "File \u001b[0;32m~/.cache/pypoetry/virtualenvs/eagerx-interbotix-jybkouFr-py3.8/lib/python3.8/site-packages/eagerx_pybullet/engine.py:95\u001b[0m, in \u001b[0;36mPybulletEngine.initialize\u001b[0;34m(self, spec)\u001b[0m\n\u001b[1;32m     92\u001b[0m check_if_pybullet_is_installed()\n\u001b[1;32m     94\u001b[0m \u001b[38;5;66;03m# Connect to pybullet\u001b[39;00m\n\u001b[0;32m---> 95\u001b[0m \u001b[38;5;28mself\u001b[39m\u001b[38;5;241m.\u001b[39m_p, \u001b[38;5;28mself\u001b[39m\u001b[38;5;241m.\u001b[39mphysics_client_id \u001b[38;5;241m=\u001b[39m \u001b[38;5;28;43mself\u001b[39;49m\u001b[38;5;241;43m.\u001b[39;49m\u001b[43m_start_simulator\u001b[49m\u001b[43m(\u001b[49m\u001b[43mspec\u001b[49m\u001b[38;5;241;43m.\u001b[39;49m\u001b[43mconfig\u001b[49m\u001b[38;5;241;43m.\u001b[39;49m\u001b[43mgui\u001b[49m\u001b[43m,\u001b[49m\u001b[43m \u001b[49m\u001b[43mspec\u001b[49m\u001b[38;5;241;43m.\u001b[39;49m\u001b[43mconfig\u001b[49m\u001b[38;5;241;43m.\u001b[39;49m\u001b[43megl\u001b[49m\u001b[43m)\u001b[49m\n\u001b[1;32m     96\u001b[0m \u001b[38;5;66;03m# Initialzize\u001b[39;00m\n\u001b[1;32m     97\u001b[0m \u001b[38;5;28;01mfrom\u001b[39;00m \u001b[38;5;21;01meagerx_pybullet\u001b[39;00m\u001b[38;5;21;01m.\u001b[39;00m\u001b[38;5;21;01mworld\u001b[39;00m \u001b[38;5;28;01mimport\u001b[39;00m World\n",
      "File \u001b[0;32m~/.cache/pypoetry/virtualenvs/eagerx-interbotix-jybkouFr-py3.8/lib/python3.8/site-packages/eagerx_pybullet/engine.py:121\u001b[0m, in \u001b[0;36mPybulletEngine._start_simulator\u001b[0;34m(self, gui, egl)\u001b[0m\n\u001b[1;32m    118\u001b[0m \u001b[38;5;28;01mfrom\u001b[39;00m \u001b[38;5;21;01mpybullet_utils\u001b[39;00m \u001b[38;5;28;01mimport\u001b[39;00m bullet_client\n\u001b[1;32m    120\u001b[0m \u001b[38;5;28;01mif\u001b[39;00m gui:\n\u001b[0;32m--> 121\u001b[0m     p \u001b[38;5;241m=\u001b[39m \u001b[43mbullet_client\u001b[49m\u001b[38;5;241;43m.\u001b[39;49m\u001b[43mBulletClient\u001b[49m\u001b[43m(\u001b[49m\u001b[43mconnection_mode\u001b[49m\u001b[38;5;241;43m=\u001b[39;49m\u001b[43mpybullet\u001b[49m\u001b[38;5;241;43m.\u001b[39;49m\u001b[43mGUI\u001b[49m\u001b[43m)\u001b[49m\n\u001b[1;32m    122\u001b[0m \u001b[38;5;28;01melse\u001b[39;00m:\n\u001b[1;32m    123\u001b[0m     \u001b[38;5;66;03m# p = bullet_client.BulletClient(pybullet.SHARED_MEMORY, options=\"-shared_memory_key 1234\")\u001b[39;00m\n\u001b[1;32m    124\u001b[0m     p \u001b[38;5;241m=\u001b[39m bullet_client\u001b[38;5;241m.\u001b[39mBulletClient()\n",
      "File \u001b[0;32m~/.cache/pypoetry/virtualenvs/eagerx-interbotix-jybkouFr-py3.8/lib/python3.8/site-packages/pybullet_utils/bullet_client.py:33\u001b[0m, in \u001b[0;36mBulletClient.__init__\u001b[0;34m(self, connection_mode, hostName, options)\u001b[0m\n\u001b[1;32m     31\u001b[0m     connection_mode \u001b[38;5;241m=\u001b[39m pybullet\u001b[38;5;241m.\u001b[39mDIRECT\n\u001b[1;32m     32\u001b[0m \u001b[38;5;28;01mif\u001b[39;00m hostName \u001b[38;5;129;01mis\u001b[39;00m \u001b[38;5;28;01mNone\u001b[39;00m:\n\u001b[0;32m---> 33\u001b[0m     \u001b[38;5;28mself\u001b[39m\u001b[38;5;241m.\u001b[39m_client \u001b[38;5;241m=\u001b[39m \u001b[43mpybullet\u001b[49m\u001b[38;5;241;43m.\u001b[39;49m\u001b[43mconnect\u001b[49m\u001b[43m(\u001b[49m\u001b[43mconnection_mode\u001b[49m\u001b[43m,\u001b[49m\u001b[43m \u001b[49m\u001b[43moptions\u001b[49m\u001b[38;5;241;43m=\u001b[39;49m\u001b[43moptions\u001b[49m\u001b[43m)\u001b[49m\n\u001b[1;32m     34\u001b[0m \u001b[38;5;28;01melse\u001b[39;00m:\n\u001b[1;32m     35\u001b[0m     \u001b[38;5;28mself\u001b[39m\u001b[38;5;241m.\u001b[39m_client \u001b[38;5;241m=\u001b[39m pybullet\u001b[38;5;241m.\u001b[39mconnect(connection_mode, hostName\u001b[38;5;241m=\u001b[39mhostName, options\u001b[38;5;241m=\u001b[39moptions)\n",
      "\u001b[0;31merror\u001b[0m: Only one local in-process GUI/GUI_SERVER connection allowed. Use DIRECT connection mode or start a separate GUI physics server (ExampleBrowser, App_SharedMemoryPhysics_GUI, App_SharedMemoryPhysics_VR) and connect over SHARED_MEMORY, UDP or TCP instead."
     ]
    }
   ],
   "source": [
    "from eagerx.backends.single_process import SingleProcess\n",
    "backend = SingleProcess.make()\n",
    "\n",
    "from eagerx_pybullet.engine import PybulletEngine\n",
    "engine = PybulletEngine.make(rate=rate)\n",
    "\n",
    "env = demo.BoxPushEnv.make(\n",
    "    name=\"PandaEnv\",\n",
    "    rate=rate,\n",
    "    graph=graph,\n",
    "    engine=engine,\n",
    "    backend=backend,\n",
    ")\n",
    "obs = env.reset()"
   ]
  },
  {
   "cell_type": "code",
   "execution_count": 9,
   "id": "49b492af-260f-48d6-ab8c-47920c2d3379",
   "metadata": {
    "tags": []
   },
   "outputs": [],
   "source": [
    "graph.gui()"
   ]
  },
  {
   "cell_type": "code",
   "execution_count": 10,
   "id": "e5c2adb2-599f-4401-897e-f756dec65038",
   "metadata": {
    "tags": []
   },
   "outputs": [
    {
     "name": "stdout",
     "output_type": "stream",
     "text": [
      "Sum of rewards: -228.24172758657934\n",
      "Sum of rewards: -255.17997684660634\n",
      "Sum of rewards: -153.35371070919118\n",
      "Sum of rewards: -153.35445172246966\n",
      "Sum of rewards: -236.26724403821788\n"
     ]
    }
   ],
   "source": [
    "for i in range(5):\n",
    "    env.reset()\n",
    "    rewards = 0\n",
    "    done = False\n",
    "    while not done:\n",
    "        action = env.action_space.sample()\n",
    "        obs, reward, done, info = env.step(action)\n",
    "        rewards += reward\n",
    "    print(f\"Sum of rewards: {rewards}\")"
   ]
  },
  {
   "cell_type": "code",
   "execution_count": 11,
   "id": "85827738-c300-426e-9285-f553234e9257",
   "metadata": {
    "tags": []
   },
   "outputs": [],
   "source": [
    "env.shutdown()"
   ]
  },
  {
   "cell_type": "code",
   "execution_count": 12,
   "id": "f2a1f65d-2049-42b1-836d-33d9136da685",
   "metadata": {
    "tags": []
   },
   "outputs": [],
   "source": [
    "from pathlib import Path\n",
    "import eagerx_interbotix\n",
    "\n",
    "\n",
    "# Load graph\n",
    "graph = eagerx.Graph.load(f\"{demo.LOG_DIR}/graph.yaml\")\n",
    "\n",
    "# Initialize env\n",
    "env = demo.BoxPushEnv.make(\n",
    "    name=\"ViperEnv\",\n",
    "    rate=rate,\n",
    "    graph=graph,\n",
    "    engine=engine,\n",
    "    backend=backend,\n",
    ")\n",
    "obs = env.reset()"
   ]
  },
  {
   "cell_type": "code",
   "execution_count": 14,
   "id": "d07e5aa4-5389-4245-a3b3-83f1caed9071",
   "metadata": {
    "tags": []
   },
   "outputs": [
    {
     "name": "stdout",
     "output_type": "stream",
     "text": [
      "Wrapping the env with a `Monitor` wrapper\n",
      "Wrapping the env in a DummyVecEnv.\n",
      "Evaluating policy for different numbers of steps.\n",
      "--------------\n",
      "Steps: 25000\n",
      "Mean episodic reward: -143.71549785323958\n",
      "--------------\n",
      "Steps: 200000\n",
      "Mean episodic reward: -108.79736612768379\n",
      "--------------\n",
      "Steps: 400000\n",
      "Mean episodic reward: -104.32726813597033\n",
      "--------------\n",
      "Steps: 600000\n",
      "Mean episodic reward: -98.90459043330094\n",
      "--------------\n",
      "Steps: 800000\n",
      "Mean episodic reward: -91.44011250902267\n",
      "--------------\n",
      "Steps: 1000000\n",
      "Mean episodic reward: -86.28700527352784\n",
      "--------------\n",
      "Steps: 1200000\n",
      "Mean episodic reward: -86.92735514238927\n",
      "--------------\n",
      "Steps: 1400000\n",
      "Mean episodic reward: -85.05314417081404\n",
      "--------------\n",
      "Steps: 1600000\n",
      "Mean episodic reward: -83.11395069502447\n"
     ]
    }
   ],
   "source": [
    "import stable_baselines3 as sb\n",
    "import numpy as np\n",
    "\n",
    "\n",
    "model = sb.SAC.load(f\"{demo.LOG_DIR}/rl_model_25000_steps\", env, verbose=0)\n",
    "print(\"Evaluating policy for different numbers of steps.\")\n",
    "episodic_reward = []\n",
    "for steps in [25_000, 50_000, 100_000, 200_000, 400_000, 800_000, 1_200_000, 1_600_000]:\n",
    "    i += 1\n",
    "    print(f\"--------------\\nSteps: {steps}\")\n",
    "    # Load model parameters\n",
    "    model.set_parameters(f\"{demo.LOG_DIR}/rl_model_{steps}_steps\")\n",
    "\n",
    "    # Evaluate\n",
    "    obs, done = env.reset(), False\n",
    "    rewards = 0\n",
    "    while not done:\n",
    "        action, _states = model.predict(obs, deterministic=True)\n",
    "        obs, reward, done, info = env.step(action)\n",
    "        rewards += reward\n",
    "    episodic_reward.append(rewards)\n",
    "    print(f\"Mean episodic reward: {np.mean(episodic_reward)}\")"
   ]
  },
  {
   "cell_type": "code",
   "execution_count": 15,
   "id": "2ecb7a8d-0676-406b-82d7-96d970916101",
   "metadata": {
    "tags": []
   },
   "outputs": [],
   "source": [
    "env.shutdown()"
   ]
  }
 ],
 "metadata": {
  "kernelspec": {
   "display_name": "Python 3 (ipykernel)",
   "language": "python",
   "name": "python3"
  },
  "language_info": {
   "codemirror_mode": {
    "name": "ipython",
    "version": 3
   },
   "file_extension": ".py",
   "mimetype": "text/x-python",
   "name": "python",
   "nbconvert_exporter": "python",
   "pygments_lexer": "ipython3",
   "version": "3.8.16"
  }
 },
 "nbformat": 4,
 "nbformat_minor": 5
}
