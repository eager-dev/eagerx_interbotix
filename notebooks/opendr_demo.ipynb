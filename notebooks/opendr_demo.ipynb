{
 "cells": [
  {
   "cell_type": "code",
   "execution_count": 2,
   "id": "29a1c8a2-e4d1-4639-99f4-f5462beeb0dc",
   "metadata": {
    "tags": []
   },
   "outputs": [],
   "source": [
    "# eagerx imports\n",
    "import eagerx\n",
    "import eagerx_interbotix.demo as demo"
   ]
  },
  {
   "cell_type": "code",
   "execution_count": 3,
   "id": "a8854e90-d96e-4d4b-bea1-843fc8026a8f",
   "metadata": {
    "tags": []
   },
   "outputs": [],
   "source": [
    "# Set parameters\n",
    "rate = 10\n",
    "\n",
    "# Create graph\n",
    "graph = eagerx.Graph.create()"
   ]
  },
  {
   "cell_type": "code",
   "execution_count": 4,
   "id": "2e5594af-ebe2-4341-b21d-68a91bb6ddec",
   "metadata": {
    "tags": []
   },
   "outputs": [
    {
     "name": "stderr",
     "output_type": "stream",
     "text": [
      "pybullet build time: May 20 2022 19:44:17\n"
     ]
    }
   ],
   "source": [
    "# Create box\n",
    "box = demo.Box.make(\n",
    "    \"box\",\n",
    "    rate=rate,\n",
    "    sensors=[\"position\", \"yaw\"],\n",
    ")\n",
    "graph.add(box)\n",
    "\n",
    "graph.connect(source=box.sensors.position, observation=\"pos\")\n",
    "graph.connect(source=box.sensors.yaw, observation=\"yaw\")"
   ]
  },
  {
   "cell_type": "code",
   "execution_count": 5,
   "id": "d16d9969-7e05-4954-989c-2b400f4030a0",
   "metadata": {
    "tags": []
   },
   "outputs": [],
   "source": [
    "# Create goal\n",
    "goal = demo.BoxGoal.make(\n",
    "    \"goal\",\n",
    "    rate=rate,\n",
    "    sensors=[\"position\", \"yaw\"],\n",
    ")\n",
    "graph.add(goal)\n",
    "\n",
    "graph.connect(source=goal.sensors.position, observation=\"pos_desired\")\n",
    "graph.connect(source=goal.sensors.yaw, observation=\"yaw_desired\")"
   ]
  },
  {
   "cell_type": "code",
   "execution_count": 6,
   "id": "08db7413-ef9c-4c7b-9b19-fb16053ba2e8",
   "metadata": {
    "tags": []
   },
   "outputs": [],
   "source": [
    "# Create arm\n",
    "arm = demo.PandaArm.make(\n",
    "    name=\"panda\",\n",
    "    rate=rate,\n",
    "    sensors=[\"position\", \"velocity\", \"force_torque\", \"ee_pos\", \"ee_orn\"],\n",
    "    actuators=[\"vel_control\"],\n",
    ")\n",
    "graph.add(arm)\n",
    "\n",
    "# Connecting observations\n",
    "graph.connect(source=arm.sensors.position, observation=\"joints\")\n",
    "graph.connect(source=arm.sensors.velocity, observation=\"velocity\")\n",
    "graph.connect(source=arm.sensors.force_torque, observation=\"force_torque\")\n",
    "graph.connect(source=arm.sensors.ee_pos, observation=\"ee_position\")"
   ]
  },
  {
   "cell_type": "code",
   "execution_count": 7,
   "id": "93b46646-484b-419d-ac83-53071b48b325",
   "metadata": {
    "tags": []
   },
   "outputs": [],
   "source": [
    "# Create IK node\n",
    "ik = demo.PandaIK.make(\n",
    "    name=\"inverse_kinematics\",\n",
    "    rate=rate,\n",
    ")\n",
    "graph.add(ik)\n",
    "\n",
    "# Create safety node\n",
    "safe = demo.VelocityControl.make(\n",
    "    name=\"safety\",\n",
    "    rate=rate,\n",
    "    joint_names=arm.config.joint_names,\n",
    "    joint_upper=arm.config.joint_upper,\n",
    "    joint_lower=arm.config.joint_lower,\n",
    "    vel_limit=[0.2 * vl for vl in arm.config.vel_limit],\n",
    ")\n",
    "graph.add(safe)\n",
    "\n",
    "# Connecting goal\n",
    "graph.connect(source=ik.outputs.dtarget, target=safe.inputs.goal)\n",
    "\n",
    "# Connecting safety filter to arm\n",
    "graph.connect(source=arm.sensors.position, target=safe.inputs.position)\n",
    "graph.connect(source=arm.sensors.velocity, target=safe.inputs.velocity)\n",
    "graph.connect(source=safe.outputs.filtered, target=arm.actuators.vel_control)\n",
    "\n",
    "# Connect IK\n",
    "graph.connect(source=arm.sensors.position, target=ik.inputs.current)\n",
    "graph.connect(source=arm.sensors.ee_pos, target=ik.inputs.xyz)\n",
    "graph.connect(source=arm.sensors.ee_orn, target=ik.inputs.orn)\n",
    "\n",
    "# Connecting actions\n",
    "graph.connect(action=\"dxyz\", target=ik.inputs.dxyz)\n",
    "graph.connect(action=\"dyaw\", target=ik.inputs.dyaw)"
   ]
  },
  {
   "cell_type": "code",
   "execution_count": 8,
   "id": "520cf340-8c3b-418d-9cbf-e569a04a6423",
   "metadata": {
    "tags": []
   },
   "outputs": [],
   "source": [
    "from eagerx.backends.single_process import SingleProcess\n",
    "backend = SingleProcess.make()\n",
    "\n",
    "from eagerx_pybullet.engine import PybulletEngine\n",
    "engine = PybulletEngine.make(rate=rate)\n",
    "\n",
    "env = demo.BoxPushEnv.make(\n",
    "    name=\"PandaEnv\",\n",
    "    rate=rate,\n",
    "    graph=graph,\n",
    "    engine=engine,\n",
    "    backend=backend,\n",
    ")\n",
    "obs = env.reset()"
   ]
  },
  {
   "cell_type": "code",
   "execution_count": 9,
   "id": "49b492af-260f-48d6-ab8c-47920c2d3379",
   "metadata": {
    "tags": []
   },
   "outputs": [],
   "source": [
    "graph.gui()"
   ]
  },
  {
   "cell_type": "code",
   "execution_count": 10,
   "id": "e5c2adb2-599f-4401-897e-f756dec65038",
   "metadata": {
    "tags": []
   },
   "outputs": [
    {
     "name": "stdout",
     "output_type": "stream",
     "text": [
      "Sum of rewards: -226.7367985212725\n",
      "Sum of rewards: -256.36138437981356\n",
      "Sum of rewards: -157.82485195498964\n",
      "Sum of rewards: -148.7184200441145\n",
      "Sum of rewards: -236.96278857078923\n"
     ]
    }
   ],
   "source": [
    "for i in range(5):\n",
    "    env.reset()\n",
    "    rewards = 0\n",
    "    done = False\n",
    "    while not done:\n",
    "        action = env.action_space.sample()\n",
    "        obs, reward, done, info = env.step(action)\n",
    "        rewards += reward\n",
    "    print(f\"Sum of rewards: {rewards}\")"
   ]
  },
  {
   "cell_type": "code",
   "execution_count": 11,
   "id": "85827738-c300-426e-9285-f553234e9257",
   "metadata": {
    "tags": []
   },
   "outputs": [],
   "source": [
    "env.shutdown()"
   ]
  },
  {
   "cell_type": "code",
   "execution_count": 12,
   "id": "f2a1f65d-2049-42b1-836d-33d9136da685",
   "metadata": {
    "tags": []
   },
   "outputs": [],
   "source": [
    "from pathlib import Path\n",
    "import eagerx_interbotix\n",
    "\n",
    "\n",
    "# Load graph\n",
    "graph = eagerx.Graph.load(f\"{demo.LOG_DIR}/graph.yaml\")\n",
    "\n",
    "# Initialize env\n",
    "env = demo.BoxPushEnv.make(\n",
    "    name=\"ViperEnv\",\n",
    "    rate=rate,\n",
    "    graph=graph,\n",
    "    engine=engine,\n",
    "    backend=backend,\n",
    ")\n",
    "obs = env.reset()"
   ]
  },
  {
   "cell_type": "code",
   "execution_count": 13,
   "id": "d07e5aa4-5389-4245-a3b3-83f1caed9071",
   "metadata": {
    "tags": []
   },
   "outputs": [
    {
     "name": "stderr",
     "output_type": "stream",
     "text": [
      "/home/jelle/.cache/pypoetry/virtualenvs/eagerx-interbotix-jybkouFr-py3.8/lib/python3.8/site-packages/tqdm/auto.py:22: TqdmWarning: IProgress not found. Please update jupyter and ipywidgets. See https://ipywidgets.readthedocs.io/en/stable/user_install.html\n",
      "  from .autonotebook import tqdm as notebook_tqdm\n"
     ]
    },
    {
     "name": "stdout",
     "output_type": "stream",
     "text": [
      "Wrapping the env with a `Monitor` wrapper\n",
      "Wrapping the env in a DummyVecEnv.\n",
      "Evaluating policy for different numbers of steps.\n",
      "--------------\n",
      "Steps: 25000\n",
      "Mean episodic reward: -147.15401845014162\n",
      "--------------\n",
      "Steps: 100000\n",
      "Mean episodic reward: -149.49296384234538\n",
      "--------------\n",
      "Steps: 200000\n",
      "Mean episodic reward: -144.5104079043291\n",
      "--------------\n",
      "Steps: 500000\n",
      "Mean episodic reward: -127.26668400525602\n",
      "--------------\n",
      "Steps: 800000\n",
      "Mean episodic reward: -118.3885392434141\n",
      "--------------\n",
      "Steps: 1100000\n",
      "Mean episodic reward: -110.89532068501065\n",
      "--------------\n",
      "Steps: 1400000\n",
      "Mean episodic reward: -102.34126560962272\n",
      "--------------\n",
      "Steps: 1600000\n",
      "Mean episodic reward: -96.9815334013345\n"
     ]
    }
   ],
   "source": [
    "import stable_baselines3 as sb\n",
    "import numpy as np\n",
    "\n",
    "\n",
    "model = sb.SAC.load(f\"{demo.LOG_DIR}/rl_model_25000_steps\", env, verbose=0)\n",
    "print(\"Evaluating policy for different numbers of steps.\")\n",
    "episodic_reward = []\n",
    "for steps in [25_000, 100_000, 200_000, 500_000, 800_000, 1_100_000, 1_400_000, 1_600_000]:\n",
    "    i += 1\n",
    "    print(f\"--------------\\nSteps: {steps}\")\n",
    "    # Load model parameters\n",
    "    model.set_parameters(f\"{demo.LOG_DIR}/rl_model_{steps}_steps\")\n",
    "\n",
    "    # Evaluate\n",
    "    obs, done = env.reset(), False\n",
    "    rewards = 0\n",
    "    while not done:\n",
    "        action, _states = model.predict(obs, deterministic=True)\n",
    "        obs, reward, done, info = env.step(action)\n",
    "        rewards += reward\n",
    "    episodic_reward.append(rewards)\n",
    "    print(f\"Mean episodic reward: {np.mean(episodic_reward)}\")"
   ]
  },
  {
   "cell_type": "code",
   "execution_count": 14,
   "id": "2ecb7a8d-0676-406b-82d7-96d970916101",
   "metadata": {
    "tags": []
   },
   "outputs": [],
   "source": [
    "env.shutdown()"
   ]
  },
  {
   "cell_type": "markdown",
   "id": "42f6415c-9a40-4ff6-828c-d85b1d6b2a62",
   "metadata": {},
   "source": [
    "<p align=\"center\">\n",
    "  <img src=\"gif/box_pushing_pybullet.gif\" width=\"40%\"  alt=\"box_sim\"/>\n",
    "  <img src=\"gif/box_pushing_real.gif\" width=\"40%\"  alt=\"box_real\"/>\n",
    "</p>"
   ]
  },
  {
   "cell_type": "markdown",
   "id": "2f5c6d16-2d2b-46fb-9aa7-773a281f875f",
   "metadata": {
    "tags": []
   },
   "source": [
    "<p align=\"center\">\n",
    "  <img src=\"gif/pendulum_sim.gif\" width=\"40%\"  alt=\"pendulum_sim\"/> \n",
    "  <img src=\"gif/pendulum_real.gif\" width=\"40%\"  alt=\"pendulum_real\"/>\n",
    "</p>\n",
    "<img src=\"gif/all.gif\" width=\"80%\" />"
   ]
  }
 ],
 "metadata": {
  "kernelspec": {
   "display_name": "Python 3 (ipykernel)",
   "language": "python",
   "name": "python3"
  },
  "language_info": {
   "codemirror_mode": {
    "name": "ipython",
    "version": 3
   },
   "file_extension": ".py",
   "mimetype": "text/x-python",
   "name": "python",
   "nbconvert_exporter": "python",
   "pygments_lexer": "ipython3",
   "version": "3.8.16"
  }
 },
 "nbformat": 4,
 "nbformat_minor": 5
}
