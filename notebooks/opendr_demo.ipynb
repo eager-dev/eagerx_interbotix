{
 "cells": [
  {
   "cell_type": "code",
   "execution_count": 1,
   "id": "29a1c8a2-e4d1-4639-99f4-f5462beeb0dc",
   "metadata": {
    "tags": []
   },
   "outputs": [],
   "source": [
    "# eagerx imports\n",
    "import eagerx\n",
    "import eagerx_interbotix.demo as demo"
   ]
  },
  {
   "cell_type": "code",
   "execution_count": 2,
   "id": "a8854e90-d96e-4d4b-bea1-843fc8026a8f",
   "metadata": {
    "tags": []
   },
   "outputs": [],
   "source": [
    "# Set parameters\n",
    "rate = 10\n",
    "\n",
    "# Create graph\n",
    "graph = eagerx.Graph.create()"
   ]
  },
  {
   "cell_type": "code",
   "execution_count": 3,
   "id": "2e5594af-ebe2-4341-b21d-68a91bb6ddec",
   "metadata": {
    "tags": []
   },
   "outputs": [
    {
     "name": "stderr",
     "output_type": "stream",
     "text": [
      "pybullet build time: May 20 2022 19:44:17\n"
     ]
    }
   ],
   "source": [
    "# Create box\n",
    "box = demo.Box.make(\n",
    "    \"box\",\n",
    "    rate=rate,\n",
    "    sensors=[\"position\", \"yaw\"],\n",
    ")\n",
    "graph.add(box)\n",
    "\n",
    "graph.connect(source=box.sensors.position, observation=\"pos\")\n",
    "graph.connect(source=box.sensors.yaw, observation=\"yaw\")"
   ]
  },
  {
   "cell_type": "code",
   "execution_count": 4,
   "id": "d16d9969-7e05-4954-989c-2b400f4030a0",
   "metadata": {
    "tags": []
   },
   "outputs": [],
   "source": [
    "# Create goal\n",
    "goal = demo.BoxGoal.make(\n",
    "    \"goal\",\n",
    "    rate=rate,\n",
    "    sensors=[\"position\", \"yaw\"],\n",
    ")\n",
    "graph.add(goal)\n",
    "\n",
    "graph.connect(source=goal.sensors.position, observation=\"pos_desired\")\n",
    "graph.connect(source=goal.sensors.yaw, observation=\"yaw_desired\")"
   ]
  },
  {
   "cell_type": "code",
   "execution_count": 5,
   "id": "08db7413-ef9c-4c7b-9b19-fb16053ba2e8",
   "metadata": {
    "tags": []
   },
   "outputs": [],
   "source": [
    "# Create arm\n",
    "arm = demo.PandaArm.make(\n",
    "    name=\"panda\",\n",
    "    rate=rate,\n",
    "    sensors=[\"position\", \"velocity\", \"force_torque\", \"ee_pos\", \"ee_orn\"],\n",
    "    actuators=[\"vel_control\"],\n",
    ")\n",
    "graph.add(arm)\n",
    "\n",
    "# Connecting observations\n",
    "graph.connect(source=arm.sensors.position, observation=\"joints\")\n",
    "graph.connect(source=arm.sensors.velocity, observation=\"velocity\")\n",
    "graph.connect(source=arm.sensors.force_torque, observation=\"force_torque\")\n",
    "graph.connect(source=arm.sensors.ee_pos, observation=\"ee_position\")"
   ]
  },
  {
   "cell_type": "code",
   "execution_count": 6,
   "id": "93b46646-484b-419d-ac83-53071b48b325",
   "metadata": {
    "tags": []
   },
   "outputs": [],
   "source": [
    "# Create IK node\n",
    "ik = demo.PandaIK.make(\n",
    "    name=\"inverse_kinematics\",\n",
    "    rate=rate,\n",
    ")\n",
    "graph.add(ik)\n",
    "\n",
    "# Create safety node\n",
    "safe = demo.VelocityControl.make(\n",
    "    name=\"safety\",\n",
    "    rate=rate,\n",
    "    joint_names=arm.config.joint_names,\n",
    "    joint_upper=arm.config.joint_upper,\n",
    "    joint_lower=arm.config.joint_lower,\n",
    "    vel_limit=[0.2 * vl for vl in arm.config.vel_limit],\n",
    ")\n",
    "graph.add(safe)\n",
    "\n",
    "# Connecting goal\n",
    "graph.connect(source=ik.outputs.dtarget, target=safe.inputs.goal)\n",
    "\n",
    "# Connecting safety filter to arm\n",
    "graph.connect(source=arm.sensors.position, target=safe.inputs.position)\n",
    "graph.connect(source=arm.sensors.velocity, target=safe.inputs.velocity)\n",
    "graph.connect(source=safe.outputs.filtered, target=arm.actuators.vel_control)\n",
    "\n",
    "# Connect IK\n",
    "graph.connect(source=arm.sensors.position, target=ik.inputs.current)\n",
    "graph.connect(source=arm.sensors.ee_pos, target=ik.inputs.xyz)\n",
    "graph.connect(source=arm.sensors.ee_orn, target=ik.inputs.orn)\n",
    "\n",
    "# Connecting actions\n",
    "graph.connect(action=\"dxyz\", target=ik.inputs.dxyz)\n",
    "graph.connect(action=\"dyaw\", target=ik.inputs.dyaw)"
   ]
  },
  {
   "cell_type": "code",
   "execution_count": 7,
   "id": "520cf340-8c3b-418d-9cbf-e569a04a6423",
   "metadata": {
    "tags": []
   },
   "outputs": [],
   "source": [
    "from eagerx.backends.single_process import SingleProcess\n",
    "backend = SingleProcess.make()\n",
    "\n",
    "from eagerx_pybullet.engine import PybulletEngine\n",
    "engine = PybulletEngine.make(rate=rate)\n",
    "\n",
    "env = demo.BoxPushEnv.make(\n",
    "    name=\"PandaEnv\",\n",
    "    rate=rate,\n",
    "    graph=graph,\n",
    "    engine=engine,\n",
    "    backend=backend,\n",
    ")\n",
    "obs = env.reset()"
   ]
  },
  {
   "cell_type": "code",
   "execution_count": 8,
   "id": "49b492af-260f-48d6-ab8c-47920c2d3379",
   "metadata": {
    "tags": []
   },
   "outputs": [
    {
     "name": "stderr",
     "output_type": "stream",
     "text": [
      "QStandardPaths: XDG_RUNTIME_DIR not set, defaulting to '/tmp/runtime-jelle'\n"
     ]
    }
   ],
   "source": [
    "graph.gui()"
   ]
  },
  {
   "cell_type": "code",
   "execution_count": 9,
   "id": "e5c2adb2-599f-4401-897e-f756dec65038",
   "metadata": {
    "tags": []
   },
   "outputs": [
    {
     "name": "stdout",
     "output_type": "stream",
     "text": [
      "Sum of rewards: -227.62448208739917\n",
      "Sum of rewards: -253.7293158246853\n",
      "Sum of rewards: -152.2758541580414\n",
      "Sum of rewards: -142.9140844319438\n",
      "Sum of rewards: -239.72212593079902\n"
     ]
    }
   ],
   "source": [
    "for i in range(5):\n",
    "    env.reset()\n",
    "    rewards = 0\n",
    "    done = False\n",
    "    while not done:\n",
    "        action = env.action_space.sample()\n",
    "        obs, reward, done, info = env.step(action)\n",
    "        rewards += reward\n",
    "    print(f\"Sum of rewards: {rewards}\")"
   ]
  },
  {
   "cell_type": "code",
   "execution_count": 10,
   "id": "85827738-c300-426e-9285-f553234e9257",
   "metadata": {
    "tags": []
   },
   "outputs": [],
   "source": [
    "env.shutdown()"
   ]
  },
  {
   "cell_type": "code",
   "execution_count": 11,
   "id": "f2a1f65d-2049-42b1-836d-33d9136da685",
   "metadata": {
    "tags": []
   },
   "outputs": [],
   "source": [
    "from pathlib import Path\n",
    "import eagerx_interbotix\n",
    "\n",
    "\n",
    "# Load graph\n",
    "graph = eagerx.Graph.load(f\"{demo.LOG_DIR}/graph.yaml\")\n",
    "\n",
    "# Initialize env\n",
    "env = demo.BoxPushEnv.make(\n",
    "    name=\"ViperEnv\",\n",
    "    rate=rate,\n",
    "    graph=graph,\n",
    "    engine=engine,\n",
    "    backend=backend,\n",
    ")\n",
    "obs = env.reset()"
   ]
  },
  {
   "cell_type": "code",
   "execution_count": 12,
   "id": "d07e5aa4-5389-4245-a3b3-83f1caed9071",
   "metadata": {
    "tags": []
   },
   "outputs": [
    {
     "name": "stderr",
     "output_type": "stream",
     "text": [
      "/home/jelle/.cache/pypoetry/virtualenvs/eagerx-interbotix-jybkouFr-py3.8/lib/python3.8/site-packages/tqdm/auto.py:22: TqdmWarning: IProgress not found. Please update jupyter and ipywidgets. See https://ipywidgets.readthedocs.io/en/stable/user_install.html\n",
      "  from .autonotebook import tqdm as notebook_tqdm\n"
     ]
    },
    {
     "name": "stdout",
     "output_type": "stream",
     "text": [
      "Wrapping the env with a `Monitor` wrapper\n",
      "Wrapping the env in a DummyVecEnv.\n",
      "Evaluating policy for different numbers of steps.\n",
      "--------------\n",
      "Steps: 25000\n",
      "Mean episodic reward: -268.65456541419775\n",
      "--------------\n",
      "Steps: 100000\n",
      "Mean episodic reward: -228.4136743320675\n",
      "--------------\n",
      "Steps: 175000\n",
      "Mean episodic reward: -211.628618395691\n",
      "--------------\n",
      "Steps: 250000\n",
      "Mean episodic reward: -191.074027099569\n",
      "--------------\n",
      "Steps: 325000\n",
      "Mean episodic reward: -182.00825886863706\n",
      "--------------\n",
      "Steps: 400000\n",
      "Mean episodic reward: -168.05234024038901\n",
      "--------------\n",
      "Steps: 475000\n",
      "Mean episodic reward: -154.17232534074785\n",
      "--------------\n",
      "Steps: 550000\n",
      "Mean episodic reward: -145.55054082054636\n",
      "--------------\n",
      "Steps: 625000\n",
      "Mean episodic reward: -136.67174250447943\n",
      "--------------\n",
      "Steps: 700000\n",
      "Mean episodic reward: -131.67257891216605\n",
      "--------------\n",
      "Steps: 775000\n",
      "Mean episodic reward: -127.50370307199788\n",
      "--------------\n",
      "Steps: 850000\n",
      "Mean episodic reward: -123.5412142526158\n",
      "--------------\n",
      "Steps: 925000\n",
      "Mean episodic reward: -119.55345788623215\n",
      "--------------\n",
      "Steps: 1000000\n",
      "Mean episodic reward: -114.78738774277238\n",
      "--------------\n",
      "Steps: 1075000\n",
      "Mean episodic reward: -111.26701114706134\n",
      "--------------\n",
      "Steps: 1150000\n",
      "Mean episodic reward: -110.0783262767528\n",
      "--------------\n",
      "Steps: 1225000\n",
      "Mean episodic reward: -107.0802110808964\n",
      "--------------\n",
      "Steps: 1300000\n",
      "Mean episodic reward: -104.27217851514965\n",
      "--------------\n",
      "Steps: 1375000\n",
      "Mean episodic reward: -102.0983298608257\n",
      "--------------\n",
      "Steps: 1450000\n",
      "Mean episodic reward: -99.9284919963882\n",
      "--------------\n",
      "Steps: 1525000\n",
      "Mean episodic reward: -97.95055023109383\n",
      "--------------\n",
      "Steps: 1600000\n",
      "Mean episodic reward: -96.39224920691754\n"
     ]
    },
    {
     "name": "stderr",
     "output_type": "stream",
     "text": [
      "The X11 connection broke: I/O error (code 1)\n",
      "X connection to :1 broken (explicit kill or server shutdown).\n"
     ]
    },
    {
     "name": "stdout",
     "output_type": "stream",
     "text": [
      "argv[0]=\n",
      "startThreads creating 1 threads.\n",
      "starting thread 0\n",
      "started thread 0 \n",
      "argc=3\n",
      "argv[0] = --unused\n",
      "argv[1] = \n",
      "argv[2] = --start_demo_name=Physics Server\n",
      "ExampleBrowserThreadFunc started\n",
      "X11 functions dynamically loaded using dlopen/dlsym OK!\n",
      "X11 functions dynamically loaded using dlopen/dlsym OK!\n",
      "Creating context\n",
      "Created GL 3.3 context\n",
      "Direct GLX rendering context obtained\n",
      "Making context current\n",
      "GL_VENDOR=Intel\n",
      "GL_RENDERER=Mesa Intel(R) UHD Graphics (CML GT2)\n",
      "GL_VERSION=4.6 (Core Profile) Mesa 21.2.6\n",
      "GL_SHADING_LANGUAGE_VERSION=4.60\n",
      "pthread_getconcurrency()=0\n",
      "Version = 4.6 (Core Profile) Mesa 21.2.6\n",
      "Vendor = Intel\n",
      "Renderer = Mesa Intel(R) UHD Graphics (CML GT2)\n",
      "b3Printf: Selected demo: Physics Server\n",
      "startThreads creating 1 threads.\n",
      "starting thread 0\n",
      "started thread 0 \n",
      "MotionThreadFunc thread started\n",
      "ven = Intel\n",
      "Workaround for some crash in the Intel OpenGL driver on Linux/Ubuntu\n",
      "ven = Intel\n",
      "Workaround for some crash in the Intel OpenGL driver on Linux/Ubuntu\n",
      "b3Printf: b3Warning[examples/Importers/ImportURDFDemo/BulletUrdfImporter.cpp,126]:\n",
      "\n",
      "b3Printf: No inertial data for link, using mass=1, localinertiadiagonal = 1,1,1, identity local inertial frame\n",
      "b3Printf: b3Warning[examples/Importers/ImportURDFDemo/BulletUrdfImporter.cpp,126]:\n",
      "\n",
      "b3Printf: baseLink\n",
      "numActiveThreads = 0\n",
      "stopping threads\n",
      "Thread with taskId 0 exiting\n",
      "Thread TERMINATED\n",
      "destroy semaphore\n",
      "semaphore destroyed\n",
      "destroy main semaphore\n",
      "main semaphore destroyed\n",
      "finished\n",
      "numActiveThreads = 0\n",
      "btShutDownExampleBrowser stopping threads\n",
      "Thread with taskId 0 exiting\n",
      "Thread TERMINATED\n",
      "destroy semaphore\n",
      "semaphore destroyed\n",
      "destroy main semaphore\n",
      "main semaphore destroyed\n",
      "argv[0]=\n",
      "startThreads creating 1 threads.\n",
      "starting thread 0\n",
      "started thread 0 \n",
      "argc=3\n",
      "argv[0] = --unused\n",
      "argv[1] = \n",
      "argv[2] = --start_demo_name=Physics Server\n",
      "ExampleBrowserThreadFunc started\n",
      "X11 functions dynamically loaded using dlopen/dlsym OK!\n",
      "X11 functions dynamically loaded using dlopen/dlsym OK!\n",
      "Creating context\n",
      "Created GL 3.3 context\n",
      "Direct GLX rendering context obtained\n",
      "Making context current\n",
      "GL_VENDOR=Intel\n",
      "GL_RENDERER=Mesa Intel(R) UHD Graphics (CML GT2)\n",
      "GL_VERSION=4.6 (Core Profile) Mesa 21.2.6\n",
      "GL_SHADING_LANGUAGE_VERSION=4.60\n",
      "pthread_getconcurrency()=0\n",
      "Version = 4.6 (Core Profile) Mesa 21.2.6\n",
      "Vendor = Intel\n",
      "Renderer = Mesa Intel(R) UHD Graphics (CML GT2)\n",
      "b3Printf: Selected demo: Physics Server\n",
      "startThreads creating 1 threads.\n",
      "starting thread 0\n",
      "started thread 0 \n",
      "MotionThreadFunc thread started\n",
      "ven = Intel\n",
      "Workaround for some crash in the Intel OpenGL driver on Linux/Ubuntu\n",
      "ven = Intel\n",
      "Workaround for some crash in the Intel OpenGL driver on Linux/Ubuntu\n",
      "b3Printf: b3Warning[examples/Importers/ImportURDFDemo/BulletUrdfImporter.cpp,126]:\n",
      "\n",
      "b3Printf: No inertial data for link, using mass=1, localinertiadiagonal = 1,1,1, identity local inertial frame\n",
      "b3Printf: b3Warning[examples/Importers/ImportURDFDemo/BulletUrdfImporter.cpp,126]:\n",
      "\n",
      "b3Printf: baseLink\n"
     ]
    }
   ],
   "source": [
    "import stable_baselines3 as sb\n",
    "import numpy as np\n",
    "\n",
    "\n",
    "steps = 25_000\n",
    "model = sb.SAC.load(f\"{demo.LOG_DIR}/rl_model_{steps}_steps\", env, verbose=0)\n",
    "print(\"Evaluating policy for different numbers of steps.\")\n",
    "episodic_reward = []\n",
    "while steps <= 1_600_000:\n",
    "    i += 1\n",
    "    print(f\"--------------\\nSteps: {steps}\")\n",
    "    # Load model parameters\n",
    "    model.set_parameters(f\"{demo.LOG_DIR}/rl_model_{steps}_steps\")\n",
    "\n",
    "    # Evaluate\n",
    "    obs, done = env.reset(), False\n",
    "    rewards = 0\n",
    "    while not done:\n",
    "        action, _states = model.predict(obs, deterministic=True)\n",
    "        obs, reward, done, info = env.step(action)\n",
    "        rewards += reward\n",
    "    episodic_reward.append(rewards)\n",
    "    print(f\"Mean episodic reward: {np.mean(episodic_reward)}\")\n",
    "    steps += 75_000"
   ]
  },
  {
   "cell_type": "code",
   "execution_count": null,
   "id": "2ecb7a8d-0676-406b-82d7-96d970916101",
   "metadata": {
    "tags": []
   },
   "outputs": [],
   "source": [
    "env.shutdown()"
   ]
  },
  {
   "cell_type": "markdown",
   "id": "42f6415c-9a40-4ff6-828c-d85b1d6b2a62",
   "metadata": {},
   "source": [
    "<p align=\"center\">\n",
    "  <img src=\"gif/box_pushing_pybullet.gif\" width=\"40%\"  alt=\"box_sim\"/>\n",
    "  <img src=\"gif/box_pushing_real.gif\" width=\"40%\"  alt=\"box_real\"/>\n",
    "</p>"
   ]
  },
  {
   "cell_type": "markdown",
   "id": "2f5c6d16-2d2b-46fb-9aa7-773a281f875f",
   "metadata": {
    "tags": []
   },
   "source": [
    "<p align=\"center\">\n",
    "  <img src=\"gif/pendulum_sim.gif\" width=\"40%\"  alt=\"pendulum_sim\"/> \n",
    "  <img src=\"gif/pendulum_real.gif\" width=\"40%\"  alt=\"pendulum_real\"/>\n",
    "</p>\n",
    "<img src=\"gif/all.gif\" width=\"80%\" />"
   ]
  }
 ],
 "metadata": {
  "kernelspec": {
   "display_name": "Python 3 (ipykernel)",
   "language": "python",
   "name": "python3"
  },
  "language_info": {
   "codemirror_mode": {
    "name": "ipython",
    "version": 3
   },
   "file_extension": ".py",
   "mimetype": "text/x-python",
   "name": "python",
   "nbconvert_exporter": "python",
   "pygments_lexer": "ipython3",
   "version": "3.8.10"
  }
 },
 "nbformat": 4,
 "nbformat_minor": 5
}
